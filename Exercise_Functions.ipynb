{
  "metadata": {
    "kernelspec": {
      "display_name": "Python 3",
      "language": "python",
      "name": "python3"
    },
    "language_info": {
      "name": "python",
      "version": "3.11.11",
      "mimetype": "text/x-python",
      "codemirror_mode": {
        "name": "ipython",
        "version": 3
      },
      "pygments_lexer": "ipython3",
      "nbconvert_exporter": "python",
      "file_extension": ".py"
    },
    "kaggle": {
      "accelerator": "none",
      "dataSources": [],
      "isInternetEnabled": false,
      "language": "python",
      "sourceType": "notebook",
      "isGpuEnabled": false
    },
    "colab": {
      "name": "Exercise: Functions",
      "provenance": [],
      "include_colab_link": true
    }
  },
  "nbformat_minor": 0,
  "nbformat": 4,
  "cells": [
    {
      "cell_type": "markdown",
      "metadata": {
        "id": "view-in-github",
        "colab_type": "text"
      },
      "source": [
        "<a href=\"https://colab.research.google.com/github/baut-jc/functions-dscnm/blob/main/Exercise_Functions.ipynb\" target=\"_parent\"><img src=\"https://colab.research.google.com/assets/colab-badge.svg\" alt=\"Open In Colab\"/></a>"
      ]
    },
    {
      "cell_type": "markdown",
      "source": [
        "**This notebook is an exercise in the [Intro to Programming](https://www.kaggle.com/learn/intro-to-programming) course.  You can reference the tutorial at [this link](https://www.kaggle.com/alexisbcook/functions).**\n",
        "\n",
        "---\n"
      ],
      "metadata": {
        "id": "CifCax5X8tjn"
      }
    },
    {
      "cell_type": "markdown",
      "source": [
        "In the tutorial, you learned about functions. In this exercise, you'll write some of your own!\n",
        "\n",
        "# Set up the notebook\n",
        "\n",
        "Run the next code cell without changes to set up the notebook."
      ],
      "metadata": {
        "id": "_iTZpf2P8tjo"
      }
    },
    {
      "cell_type": "code",
      "source": [
        "# Set up the exercise\n",
        "import math\n",
        "from learntools.core import binder\n",
        "binder.bind(globals())\n",
        "from learntools.intro_to_programming.ex2 import *\n",
        "print('Setup complete.')"
      ],
      "metadata": {
        "trusted": true,
        "execution": {
          "iopub.status.busy": "2025-05-10T06:41:20.753052Z",
          "iopub.execute_input": "2025-05-10T06:41:20.75339Z",
          "iopub.status.idle": "2025-05-10T06:41:21.140344Z",
          "shell.execute_reply.started": "2025-05-10T06:41:20.753365Z",
          "shell.execute_reply": "2025-05-10T06:41:21.139564Z"
        },
        "id": "tG6dEau68tjo"
      },
      "outputs": [],
      "execution_count": null
    },
    {
      "cell_type": "markdown",
      "source": [
        "# Question 1\n",
        "\n",
        "In the [House Prices - Advanced Regression Techniques competition](https://www.kaggle.com/c/house-prices-advanced-regression-techniques/overview), you need to use information like the number of bedrooms and bathrooms to predict the price of a house.  Inspired by this competition, you'll write your own function to do this.\n",
        "\n",
        "In the next code cell, create a function `get_expected_cost()` that has two arguments:\n",
        "- `beds` - number of bedrooms\n",
        "- `baths` - number of bathrooms\n",
        "\n",
        "It should return the expected cost of a house with that number of bedrooms and bathrooms.  Assume that:\n",
        "- the expected cost for a house with 0 bedrooms and 0 bathrooms is `80000`.  \n",
        "- each bedroom adds `30000` to the expected cost\n",
        "- each bathroom adds `10000` to the expected cost.\n",
        "\n",
        "For instance,\n",
        "- a house with 1 bedroom and 1 bathroom has an expected cost of `120000`, and\n",
        "- a house with 2 bedrooms and 1 bathroom has an expected cost of `150000`."
      ],
      "metadata": {
        "id": "TtUI4EIX8tjp"
      }
    },
    {
      "cell_type": "code",
      "source": [
        "# TODO: Complete the function\n",
        "def get_expected_cost(beds, baths):\n",
        "    value = (beds*30000) + (baths*10000) + 80000\n",
        "    return value\n",
        "\n",
        "# Check your answer\n",
        "q1.check()"
      ],
      "metadata": {
        "execution": {
          "iopub.status.busy": "2025-05-09T03:50:16.046041Z",
          "iopub.execute_input": "2025-05-09T03:50:16.046381Z",
          "iopub.status.idle": "2025-05-09T03:50:16.053493Z",
          "shell.execute_reply.started": "2025-05-09T03:50:16.046359Z",
          "shell.execute_reply": "2025-05-09T03:50:16.052772Z"
        },
        "trusted": true,
        "id": "lwmWIx-i8tjp"
      },
      "outputs": [],
      "execution_count": null
    },
    {
      "cell_type": "code",
      "source": [
        "# Uncomment to see a hint\n",
        "#q1.hint()\n",
        "\n",
        "# Uncomment to view the solution\n",
        "#q1.solution()"
      ],
      "metadata": {
        "execution": {
          "iopub.status.busy": "2025-05-08T21:19:43.54999Z",
          "iopub.execute_input": "2025-05-08T21:19:43.55028Z",
          "iopub.status.idle": "2025-05-08T21:19:43.559416Z",
          "shell.execute_reply.started": "2025-05-08T21:19:43.550252Z",
          "shell.execute_reply": "2025-05-08T21:19:43.558733Z"
        },
        "trusted": true,
        "id": "OMyokMyb8tjp"
      },
      "outputs": [],
      "execution_count": null
    },
    {
      "cell_type": "markdown",
      "source": [
        "# Question 2\n",
        "\n",
        "You are thinking about buying a home and want to get an idea of how much you will spend, based on the number of bedrooms and bathrooms.  You are trying to decide between four different options:\n",
        "- Option 1: house with two bedrooms and three bathrooms\n",
        "- Option 2: house with three bedrooms and two bathrooms\n",
        "- Option 3: house with three bedrooms and three bathrooms\n",
        "- Option 4: house with three bedrooms and four bathrooms\n",
        "\n",
        "Use the `get_expected_cost()` function you defined in question 1 to set `option_1`, `option_2`, `option_3`, and `option_4` to the expected cost of each option."
      ],
      "metadata": {
        "id": "-4KWPSi28tjp"
      }
    },
    {
      "cell_type": "code",
      "source": [
        "# TODO: Use the get_expected_cost function to fill in each value\n",
        "option_one = get_expected_cost(2,3)\n",
        "option_two = get_expected_cost(3,2)\n",
        "option_three = get_expected_cost(3,3)\n",
        "option_four = get_expected_cost(3,4)\n",
        "\n",
        "print(option_one)\n",
        "print(option_two)\n",
        "print(option_three)\n",
        "print(option_four)\n",
        "\n",
        "# Check your answer\n",
        "q2.check()"
      ],
      "metadata": {
        "execution": {
          "iopub.status.busy": "2025-05-09T03:50:22.502062Z",
          "iopub.execute_input": "2025-05-09T03:50:22.502302Z",
          "iopub.status.idle": "2025-05-09T03:50:22.509243Z",
          "shell.execute_reply.started": "2025-05-09T03:50:22.502283Z",
          "shell.execute_reply": "2025-05-09T03:50:22.508672Z"
        },
        "trusted": true,
        "id": "kFY1gyEp8tjq"
      },
      "outputs": [],
      "execution_count": null
    },
    {
      "cell_type": "code",
      "source": [
        "# Uncomment to see a hint\n",
        "#q2.hint()\n",
        "\n",
        "# Uncomment to view the solution\n",
        "#q2.solution()"
      ],
      "metadata": {
        "id": "oxi2x3Vz8tjq"
      },
      "outputs": [],
      "execution_count": null
    },
    {
      "cell_type": "markdown",
      "source": [
        "# Question 3\n",
        "\n",
        "You're a home decorator, and you'd like to use Python to streamline some of your work.  Specifically, you're creating a tool that you intend to use to calculate the cost of painting a room.\n",
        "\n",
        "As a first step, define a function `get_cost()` that takes as input:\n",
        "- `sqft_walls` = total square feet of walls to be painted\n",
        "- `sqft_ceiling` = square feet of ceiling to be painted\n",
        "- `sqft_per_gallon` = number of square feet that you can cover with one gallon of paint\n",
        "- `cost_per_gallon` = cost (in dollars) of one gallon of paint\n",
        "\n",
        "It should return the cost (in dollars) of putting one coat of paint on all walls and the ceiling.  Assume you can buy the exact amount of paint that you need, so you can buy partial gallons (e.g., if you need 7.523 gallons, you can buy that exact amount, instead of needing to buy 8 gallons and waste some paint).  Do not round your answer."
      ],
      "metadata": {
        "id": "8UzBxTkU8tjq"
      }
    },
    {
      "cell_type": "code",
      "source": [
        "# TODO: Finish defining the function\n",
        "def get_cost(sqft_walls, sqft_ceiling, sqft_per_gallon, cost_per_gallon):\n",
        "    cost = ((sqft_walls + sqft_ceiling)/sqft_per_gallon) * cost_per_gallon\n",
        "    return cost\n",
        "\n",
        "# Check your answer\n",
        "q3.check()"
      ],
      "metadata": {
        "execution": {
          "iopub.status.busy": "2025-05-09T03:50:27.712725Z",
          "iopub.execute_input": "2025-05-09T03:50:27.712964Z",
          "iopub.status.idle": "2025-05-09T03:50:27.718978Z",
          "shell.execute_reply.started": "2025-05-09T03:50:27.712948Z",
          "shell.execute_reply": "2025-05-09T03:50:27.718413Z"
        },
        "trusted": true,
        "id": "awO8iYOO8tjq"
      },
      "outputs": [],
      "execution_count": null
    },
    {
      "cell_type": "code",
      "source": [
        "# Uncomment to see a hint\n",
        "q3.hint()\n",
        "\n",
        "# Uncomment to view the solution\n",
        "q3.solution()"
      ],
      "metadata": {
        "trusted": true,
        "execution": {
          "iopub.status.busy": "2025-05-08T21:27:46.479256Z",
          "iopub.execute_input": "2025-05-08T21:27:46.479577Z",
          "iopub.status.idle": "2025-05-08T21:27:46.489166Z",
          "shell.execute_reply.started": "2025-05-08T21:27:46.47955Z",
          "shell.execute_reply": "2025-05-08T21:27:46.488379Z"
        },
        "id": "svohn-lu8tjq"
      },
      "outputs": [],
      "execution_count": null
    },
    {
      "cell_type": "markdown",
      "source": [
        "# Question 4\n",
        "\n",
        "Use the `get_cost()` function you defined in Question 3 to calculate the cost of applying one coat of paint to a room with:\n",
        "- 432 square feet of walls, and\n",
        "- 144 square feet of ceiling.\n",
        "\n",
        "Assume that one gallon of paint covers 400 square feet and costs $15.  As in Question 3, assume you can buy partial gallons of paint.  Do not round your answer."
      ],
      "metadata": {
        "id": "tIqTJJ2a8tjq"
      }
    },
    {
      "cell_type": "code",
      "source": [
        "# TODO: Set the project_cost variable to the cost of the project\n",
        "project_cost = get_cost(432,144,400,15)\n",
        "\n",
        "# Check your answer\n",
        "q4.check()"
      ],
      "metadata": {
        "execution": {
          "iopub.status.busy": "2025-05-09T03:50:51.281867Z",
          "iopub.execute_input": "2025-05-09T03:50:51.282441Z",
          "iopub.status.idle": "2025-05-09T03:50:51.288809Z",
          "shell.execute_reply.started": "2025-05-09T03:50:51.28242Z",
          "shell.execute_reply": "2025-05-09T03:50:51.288047Z"
        },
        "trusted": true,
        "id": "ZKZnrC_s8tjq"
      },
      "outputs": [],
      "execution_count": null
    },
    {
      "cell_type": "raw",
      "source": [
        "# Uncomment to see a hint\n",
        "#q4.hint()\n",
        "\n",
        "# Uncomment to view the solution\n",
        "#q4.solution()"
      ],
      "metadata": {
        "id": "5tOS51Ti8tjr"
      }
    },
    {
      "cell_type": "markdown",
      "source": [
        "# 🌶️ Question 5\n",
        "\n",
        "Now say you can no longer buy fractions of a gallon.  (For instance, if you need 4.3 gallons to do a project, then you have to buy 5 gallons of paint.)\n",
        "\n",
        "With this new scenario, you will create a new function `get_actual_cost` that uses the same inputs and calculates the cost of your project.\n",
        "\n",
        "One function that you'll need to use to do this is `math.ceil()`.  We demonstrate usage of this function in the code cell below.  It takes as a number as input and rounds the number up to the nearest integer.  \n",
        "\n",
        "Run the next code cell to test this function for yourself.  Feel free to change the value of `test_value` and make sure `math.ceil()` returns the number you expect."
      ],
      "metadata": {
        "id": "_H-Ufyrf8tjr"
      }
    },
    {
      "cell_type": "code",
      "source": [
        "test_value = 2.17\n",
        "\n",
        "rounded_value = math.ceil(test_value)\n",
        "print(rounded_value)"
      ],
      "metadata": {
        "execution": {
          "iopub.status.busy": "2025-05-08T21:32:08.471788Z",
          "iopub.execute_input": "2025-05-08T21:32:08.473026Z",
          "iopub.status.idle": "2025-05-08T21:32:08.478643Z",
          "shell.execute_reply.started": "2025-05-08T21:32:08.472976Z",
          "shell.execute_reply": "2025-05-08T21:32:08.477771Z"
        },
        "trusted": true,
        "id": "Hx8RfCTH8tjr"
      },
      "outputs": [],
      "execution_count": null
    },
    {
      "cell_type": "markdown",
      "source": [
        "Use the next code cell to define the function `get_actual_cost()`.  You'll need to use the `math.ceil()` function to do this.\n",
        "\n",
        "When answering this question, note that it's completely valid to define a function that makes use of another function.  For instance, we can define a function `round_up_and_divide_by_three` that makes use of the `math.ceil` function:\n",
        "```\n",
        "def round_up_and_divide_by_three(num):\n",
        "    new_value = math.ceil(num)\n",
        "    final_value = new_value / 3\n",
        "    return final_value\n",
        "```"
      ],
      "metadata": {
        "id": "1ysmqWVG8tjr"
      }
    },
    {
      "cell_type": "code",
      "source": [
        "def get_actual_cost(sqft_walls, sqft_ceiling, sqft_per_gallon, cost_per_gallon):\n",
        "    sqftg = sqft_walls + sqft_ceiling\n",
        "    needed_gallon = sqftg / sqft_per_gallon\n",
        "    gallon_to_buy = math.ceil(needed_gallon)\n",
        "    cost = cost_per_gallon * gallon_to_buy\n",
        "    return cost\n",
        "\n",
        "# Check your answer\n",
        "q5.check()"
      ],
      "metadata": {
        "execution": {
          "iopub.status.busy": "2025-05-10T06:44:39.090329Z",
          "iopub.execute_input": "2025-05-10T06:44:39.090646Z",
          "iopub.status.idle": "2025-05-10T06:44:39.099373Z",
          "shell.execute_reply.started": "2025-05-10T06:44:39.090623Z",
          "shell.execute_reply": "2025-05-10T06:44:39.098593Z"
        },
        "trusted": true,
        "id": "sd2q9uKm8tjr"
      },
      "outputs": [],
      "execution_count": null
    },
    {
      "cell_type": "code",
      "source": [
        "# Uncomment to see a hint\n",
        "q5.hint()\n",
        "\n",
        "# Uncomment to view the solution\n",
        "q5.solution()"
      ],
      "metadata": {
        "trusted": true,
        "execution": {
          "iopub.status.busy": "2025-05-09T03:56:19.647616Z",
          "iopub.execute_input": "2025-05-09T03:56:19.647857Z",
          "iopub.status.idle": "2025-05-09T03:56:19.656203Z",
          "shell.execute_reply.started": "2025-05-09T03:56:19.647841Z",
          "shell.execute_reply": "2025-05-09T03:56:19.655677Z"
        },
        "id": "ckVJXLuf8tjr"
      },
      "outputs": [],
      "execution_count": null
    },
    {
      "cell_type": "markdown",
      "source": [
        "Once your function is verified as correct, run the next code cell to calculate the updated cost of your project."
      ],
      "metadata": {
        "id": "QHHi_JzJ8tjr"
      }
    },
    {
      "cell_type": "code",
      "source": [
        "get_actual_cost(432, 144, 400, 15)"
      ],
      "metadata": {
        "execution": {
          "iopub.execute_input": "2022-01-11T15:49:59.472436Z",
          "iopub.status.busy": "2022-01-11T15:49:59.472141Z",
          "iopub.status.idle": "2022-01-11T15:49:59.479131Z",
          "shell.execute_reply": "2022-01-11T15:49:59.477864Z",
          "shell.execute_reply.started": "2022-01-11T15:49:59.472406Z"
        },
        "id": "wKezptqa8tjr"
      },
      "outputs": [],
      "execution_count": null
    },
    {
      "cell_type": "markdown",
      "source": [
        "Say you're working with a slightly larger room.  Run the next code cell to calculate the cost of the project."
      ],
      "metadata": {
        "id": "N5NO_2aw8tjr"
      }
    },
    {
      "cell_type": "code",
      "source": [
        "get_actual_cost(594, 288, 400, 15)"
      ],
      "metadata": {
        "execution": {
          "iopub.execute_input": "2022-01-11T16:04:36.645519Z",
          "iopub.status.busy": "2022-01-11T16:04:36.644695Z",
          "iopub.status.idle": "2022-01-11T16:04:36.650348Z",
          "shell.execute_reply": "2022-01-11T16:04:36.649731Z",
          "shell.execute_reply.started": "2022-01-11T16:04:36.64547Z"
        },
        "id": "HnBdPj0z8tjr"
      },
      "outputs": [],
      "execution_count": null
    },
    {
      "cell_type": "markdown",
      "source": [
        "# Keep going\n",
        "\n",
        "Continue to learn about **[data types](https://www.kaggle.com/alexisbcook/data-types)**."
      ],
      "metadata": {
        "id": "Iy0pxu1Z8tjr"
      }
    },
    {
      "cell_type": "markdown",
      "source": [
        "---\n",
        "\n",
        "\n",
        "\n",
        "\n",
        "*Have questions or comments? Visit the [course discussion forum](https://www.kaggle.com/learn/intro-to-programming/discussion) to chat with other learners.*"
      ],
      "metadata": {
        "id": "SZBPvLkM8tjr"
      }
    }
  ]
}